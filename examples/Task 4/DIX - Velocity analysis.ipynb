{
 "cells": [
  {
   "cell_type": "code",
   "execution_count": 1,
   "id": "ffdbb21a",
   "metadata": {},
   "outputs": [],
   "source": [
    "import numpy as np"
   ]
  },
  {
   "cell_type": "code",
   "execution_count": 2,
   "id": "338614ae",
   "metadata": {},
   "outputs": [],
   "source": [
    "# Vint = interval velocity\n",
    "# t1 = traveltime to the first reflector\n",
    "# t2 = traveltime to the second reflector\n",
    "# Vrms1 = root-mean-squre velocity to the first reflector\n",
    "# Vrms2 = root-mean-squre velocity to the second reflector\n",
    "\n",
    "def calc_dix(t, Vrms):\n",
    "    V_int = []\n",
    "    for i in range(1, len(Vrms)):\n",
    "        v = np.sqrt((t[i]*Vrms[i]**2-t[i-1]*Vrms[i-1]**2)/(t[i]-t[i-1]))\n",
    "        V_int.append(v)\n",
    "    return V_int\n",
    "\n",
    "# X = offset, distancia entre fuente y receptor\n",
    "\n",
    "def calc_tx(t0, x, Vrms):\n",
    "    tx = np.sqrt(t0**2 + x**2/Vrms**2)\n",
    "    return tx\n",
    "\n",
    "def give_params():\n",
    "    \n",
    "    alpha = 310\n",
    "    beta = 0.25\n",
    "        \n",
    "    return alpha, beta\n",
    "\n",
    "def calc_rho(Vint):\n",
    "    \n",
    "    alpha, beta = give_params()   \n",
    "    rho = alpha*Vint**beta\n",
    "    \n",
    "    return rho\n",
    "\n",
    "def calc_r(m0, j=999):\n",
    "    \n",
    "    if j != 999:\n",
    "        r = (m0[j+1] - m0[j])/(m0[j+1] + m0[j])\n",
    "    else:\n",
    "        r = []\n",
    "        for i in range(1, len(m0)):\n",
    "\n",
    "            num = m0[i] - m0[i-1]\n",
    "            den = m0[i] + m0[i-1]\n",
    "            r_temp = num/den\n",
    "            r.append(r_temp)\n",
    "        r = np.array(r)\n",
    "    \n",
    "    return r"
   ]
  },
  {
   "cell_type": "markdown",
   "id": "41628cd8",
   "metadata": {},
   "source": [
    "1. Para cada reflector yo hago un plot de tiempo vs x offset, el cual me da la velocidad Vrms y t0.\n",
    "2. Uso el t0 y el Vrms para calcular la velocidad intervalica usando la formula de DIX. \n"
   ]
  },
  {
   "cell_type": "code",
   "execution_count": 10,
   "id": "fe48abf7",
   "metadata": {},
   "outputs": [
    {
     "name": "stdout",
     "output_type": "stream",
     "text": [
      "(5,)\n",
      "(5,)\n",
      "Interval velocity (m/s):  [5392.58750509 5348.59794713 5826.87737987 7180.52922841]\n",
      "Density (kg/m3):  [2656.50718031 2651.07297266 2708.44900823 2853.65066737]\n",
      "Impedance (Rayls kg/(m2*s)):  [14325447.42770011 14179523.45925434 15781800.26058372 20490722.02471418]\n",
      "[-0.00511925  0.05347817  0.12982063]\n"
     ]
    }
   ],
   "source": [
    "Vrms = np.array([5.0, 5.2, 5.25, 5.4, 5.8])*1e3 # m/s\n",
    "print(Vrms.shape)\n",
    "t = np.array([1,2,3,4,5])*1e-3 # s\n",
    "print(t.shape)\n",
    "Vint = np.array(calc_dix(t, Vrms))\n",
    "print('Interval velocity (m/s): ', Vint)\n",
    "\n",
    "rho = calc_rho(Vint)\n",
    "print('Density (kg/m3): ', rho)\n",
    "Z = Vint*rho\n",
    "print('Impedance (Rayls kg/(m2*s)): ', Z)\n",
    "r = calc_r(Z)\n",
    "print(r)"
   ]
  },
  {
   "cell_type": "markdown",
   "id": "0c3bfa2a",
   "metadata": {},
   "source": [
    "Now that we have the real data. Apply MBI method to calculate a good model of Z's. \n",
    "Merge the notebooks and create a library to manage all functions from there."
   ]
  },
  {
   "cell_type": "code",
   "execution_count": null,
   "id": "f54341ab",
   "metadata": {},
   "outputs": [],
   "source": []
  },
  {
   "cell_type": "code",
   "execution_count": null,
   "id": "23f2851a",
   "metadata": {},
   "outputs": [],
   "source": []
  },
  {
   "cell_type": "code",
   "execution_count": null,
   "id": "8f04e4e6",
   "metadata": {},
   "outputs": [],
   "source": []
  }
 ],
 "metadata": {
  "kernelspec": {
   "display_name": "Python 3 (ipykernel)",
   "language": "python",
   "name": "python3"
  },
  "language_info": {
   "codemirror_mode": {
    "name": "ipython",
    "version": 3
   },
   "file_extension": ".py",
   "mimetype": "text/x-python",
   "name": "python",
   "nbconvert_exporter": "python",
   "pygments_lexer": "ipython3",
   "version": "3.9.13"
  }
 },
 "nbformat": 4,
 "nbformat_minor": 5
}
