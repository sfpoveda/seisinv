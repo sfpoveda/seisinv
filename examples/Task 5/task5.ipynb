{
 "cells": [
  {
   "cell_type": "code",
   "execution_count": 1,
   "metadata": {},
   "outputs": [],
   "source": [
    "# add path of modules\n",
    "import sys\n",
    "sys.path.append('d:\\\\Users\\\\serfe\\\\Documents\\\\GitHub\\\\seisinv\\\\src')\n",
    "\n",
    "# Import local libraries\n",
    "from basic_ops_seis_inv import MathOps, Filtering, Error, ConversionTool\n",
    "from petro_analysis import DensityAnalysis\n",
    "from post_stack import poststack_methods as ps_methods\n",
    "from plot_seis_inv import PlotSeisInv\n",
    "\n",
    "# Import standard libraries\n",
    "import matplotlib.pyplot as plt\n",
    "import numpy as np\n",
    "import pandas as pd"
   ]
  },
  {
   "cell_type": "code",
   "execution_count": 2,
   "metadata": {},
   "outputs": [],
   "source": [
    "### Create instances to invoke functions/methods\n",
    "math_ops = MathOps()\n",
    "filtering = Filtering()\n",
    "ps_methods = ps_methods()\n",
    "plot_seis_inv = PlotSeisInv()\n",
    "error = Error()\n",
    "density_analysis = DensityAnalysis()\n",
    "conversion_tool = ConversionTool()"
   ]
  },
  {
   "cell_type": "code",
   "execution_count": 3,
   "metadata": {},
   "outputs": [
    {
     "data": {
      "text/html": [
       "<div>\n",
       "<style scoped>\n",
       "    .dataframe tbody tr th:only-of-type {\n",
       "        vertical-align: middle;\n",
       "    }\n",
       "\n",
       "    .dataframe tbody tr th {\n",
       "        vertical-align: top;\n",
       "    }\n",
       "\n",
       "    .dataframe thead th {\n",
       "        text-align: right;\n",
       "    }\n",
       "</style>\n",
       "<table border=\"1\" class=\"dataframe\">\n",
       "  <thead>\n",
       "    <tr style=\"text-align: right;\">\n",
       "      <th></th>\n",
       "      <th>DEPT</th>\n",
       "      <th>Bit Size</th>\n",
       "      <th>Caliper</th>\n",
       "      <th>Compressional Slownes</th>\n",
       "      <th>Shear Slownes</th>\n",
       "      <th>Gamma Ray</th>\n",
       "      <th>Neutron</th>\n",
       "      <th>Density</th>\n",
       "      <th>Deep Resistivity</th>\n",
       "      <th>Spontaneous Potential</th>\n",
       "      <th>Surface</th>\n",
       "    </tr>\n",
       "  </thead>\n",
       "  <tbody>\n",
       "    <tr>\n",
       "      <th>0</th>\n",
       "      <td>3000</td>\n",
       "      <td>9.5</td>\n",
       "      <td>9.07805</td>\n",
       "      <td>130.18320</td>\n",
       "      <td>287.5545</td>\n",
       "      <td>23.30912</td>\n",
       "      <td>0.56499</td>\n",
       "      <td>2.06083</td>\n",
       "      <td>0.44333</td>\n",
       "      <td>-45.88697</td>\n",
       "      <td>Top_1</td>\n",
       "    </tr>\n",
       "    <tr>\n",
       "      <th>1</th>\n",
       "      <td>3001</td>\n",
       "      <td>9.5</td>\n",
       "      <td>9.11115</td>\n",
       "      <td>132.22950</td>\n",
       "      <td>284.9733</td>\n",
       "      <td>27.90894</td>\n",
       "      <td>0.47970</td>\n",
       "      <td>2.07622</td>\n",
       "      <td>0.46744</td>\n",
       "      <td>-46.03849</td>\n",
       "      <td>Top_1</td>\n",
       "    </tr>\n",
       "    <tr>\n",
       "      <th>2</th>\n",
       "      <td>3002</td>\n",
       "      <td>9.5</td>\n",
       "      <td>9.12215</td>\n",
       "      <td>128.80150</td>\n",
       "      <td>282.1579</td>\n",
       "      <td>27.11216</td>\n",
       "      <td>0.48192</td>\n",
       "      <td>2.08354</td>\n",
       "      <td>0.48176</td>\n",
       "      <td>-46.62711</td>\n",
       "      <td>Top_1</td>\n",
       "    </tr>\n",
       "    <tr>\n",
       "      <th>3</th>\n",
       "      <td>3003</td>\n",
       "      <td>9.5</td>\n",
       "      <td>9.12217</td>\n",
       "      <td>128.46430</td>\n",
       "      <td>279.9890</td>\n",
       "      <td>25.41507</td>\n",
       "      <td>0.53129</td>\n",
       "      <td>2.08723</td>\n",
       "      <td>0.48818</td>\n",
       "      <td>-47.52837</td>\n",
       "      <td>Top_1</td>\n",
       "    </tr>\n",
       "    <tr>\n",
       "      <th>4</th>\n",
       "      <td>3004</td>\n",
       "      <td>9.5</td>\n",
       "      <td>9.05605</td>\n",
       "      <td>127.94190</td>\n",
       "      <td>278.7398</td>\n",
       "      <td>30.71320</td>\n",
       "      <td>0.47623</td>\n",
       "      <td>2.06726</td>\n",
       "      <td>0.49740</td>\n",
       "      <td>-47.99183</td>\n",
       "      <td>Top_1</td>\n",
       "    </tr>\n",
       "    <tr>\n",
       "      <th>...</th>\n",
       "      <td>...</td>\n",
       "      <td>...</td>\n",
       "      <td>...</td>\n",
       "      <td>...</td>\n",
       "      <td>...</td>\n",
       "      <td>...</td>\n",
       "      <td>...</td>\n",
       "      <td>...</td>\n",
       "      <td>...</td>\n",
       "      <td>...</td>\n",
       "      <td>...</td>\n",
       "    </tr>\n",
       "    <tr>\n",
       "      <th>5196</th>\n",
       "      <td>8196</td>\n",
       "      <td>9.5</td>\n",
       "      <td>8.74737</td>\n",
       "      <td>82.19551</td>\n",
       "      <td>179.6912</td>\n",
       "      <td>53.67944</td>\n",
       "      <td>0.22237</td>\n",
       "      <td>2.46533</td>\n",
       "      <td>5.03951</td>\n",
       "      <td>3.34816</td>\n",
       "      <td>Top_5</td>\n",
       "    </tr>\n",
       "    <tr>\n",
       "      <th>5197</th>\n",
       "      <td>8197</td>\n",
       "      <td>9.5</td>\n",
       "      <td>8.74731</td>\n",
       "      <td>77.29253</td>\n",
       "      <td>177.9962</td>\n",
       "      <td>59.17858</td>\n",
       "      <td>0.22924</td>\n",
       "      <td>2.44470</td>\n",
       "      <td>6.33363</td>\n",
       "      <td>7.78983</td>\n",
       "      <td>Top_5</td>\n",
       "    </tr>\n",
       "    <tr>\n",
       "      <th>5198</th>\n",
       "      <td>8198</td>\n",
       "      <td>9.5</td>\n",
       "      <td>8.70311</td>\n",
       "      <td>74.77816</td>\n",
       "      <td>176.1770</td>\n",
       "      <td>66.17214</td>\n",
       "      <td>0.26280</td>\n",
       "      <td>2.43656</td>\n",
       "      <td>7.77693</td>\n",
       "      <td>9.60661</td>\n",
       "      <td>Top_5</td>\n",
       "    </tr>\n",
       "    <tr>\n",
       "      <th>5199</th>\n",
       "      <td>8199</td>\n",
       "      <td>9.5</td>\n",
       "      <td>8.65917</td>\n",
       "      <td>75.38631</td>\n",
       "      <td>170.7982</td>\n",
       "      <td>67.56411</td>\n",
       "      <td>0.28504</td>\n",
       "      <td>2.49777</td>\n",
       "      <td>9.01924</td>\n",
       "      <td>9.85767</td>\n",
       "      <td>Top_5</td>\n",
       "    </tr>\n",
       "    <tr>\n",
       "      <th>5200</th>\n",
       "      <td>8200</td>\n",
       "      <td>9.5</td>\n",
       "      <td>8.70327</td>\n",
       "      <td>76.36928</td>\n",
       "      <td>162.6630</td>\n",
       "      <td>61.06921</td>\n",
       "      <td>0.27055</td>\n",
       "      <td>2.38866</td>\n",
       "      <td>7.53460</td>\n",
       "      <td>2.73754</td>\n",
       "      <td>Top_5</td>\n",
       "    </tr>\n",
       "  </tbody>\n",
       "</table>\n",
       "<p>5201 rows × 11 columns</p>\n",
       "</div>"
      ],
      "text/plain": [
       "      DEPT  Bit Size  Caliper  Compressional Slownes  Shear Slownes  \\\n",
       "0     3000       9.5  9.07805              130.18320       287.5545   \n",
       "1     3001       9.5  9.11115              132.22950       284.9733   \n",
       "2     3002       9.5  9.12215              128.80150       282.1579   \n",
       "3     3003       9.5  9.12217              128.46430       279.9890   \n",
       "4     3004       9.5  9.05605              127.94190       278.7398   \n",
       "...    ...       ...      ...                    ...            ...   \n",
       "5196  8196       9.5  8.74737               82.19551       179.6912   \n",
       "5197  8197       9.5  8.74731               77.29253       177.9962   \n",
       "5198  8198       9.5  8.70311               74.77816       176.1770   \n",
       "5199  8199       9.5  8.65917               75.38631       170.7982   \n",
       "5200  8200       9.5  8.70327               76.36928       162.6630   \n",
       "\n",
       "      Gamma Ray  Neutron  Density  Deep Resistivity  Spontaneous Potential  \\\n",
       "0      23.30912  0.56499  2.06083           0.44333              -45.88697   \n",
       "1      27.90894  0.47970  2.07622           0.46744              -46.03849   \n",
       "2      27.11216  0.48192  2.08354           0.48176              -46.62711   \n",
       "3      25.41507  0.53129  2.08723           0.48818              -47.52837   \n",
       "4      30.71320  0.47623  2.06726           0.49740              -47.99183   \n",
       "...         ...      ...      ...               ...                    ...   \n",
       "5196   53.67944  0.22237  2.46533           5.03951                3.34816   \n",
       "5197   59.17858  0.22924  2.44470           6.33363                7.78983   \n",
       "5198   66.17214  0.26280  2.43656           7.77693                9.60661   \n",
       "5199   67.56411  0.28504  2.49777           9.01924                9.85767   \n",
       "5200   61.06921  0.27055  2.38866           7.53460                2.73754   \n",
       "\n",
       "     Surface  \n",
       "0      Top_1  \n",
       "1      Top_1  \n",
       "2      Top_1  \n",
       "3      Top_1  \n",
       "4      Top_1  \n",
       "...      ...  \n",
       "5196   Top_5  \n",
       "5197   Top_5  \n",
       "5198   Top_5  \n",
       "5199   Top_5  \n",
       "5200   Top_5  \n",
       "\n",
       "[5201 rows x 11 columns]"
      ]
     },
     "execution_count": 3,
     "metadata": {},
     "output_type": "execute_result"
    }
   ],
   "source": [
    "# Read data\n",
    "path_data = 'd:\\\\Users\\\\serfe\\\\Documents\\\\GitHub\\\\seisinv\\\\data\\\\data_task5.xlsx'\n",
    "df = pd.read_excel(path_data)\n",
    "df"
   ]
  },
  {
   "cell_type": "code",
   "execution_count": 4,
   "metadata": {},
   "outputs": [
    {
     "name": "stdout",
     "output_type": "stream",
     "text": [
      "Output units: kg/m3\n"
     ]
    }
   ],
   "source": [
    "# calculate impedance\n",
    "rho, vp = conversion_tool.SI_conversion(df['Density'], 'g/cm3'), 1/conversion_tool.SI_conversion(df['Compressional Slownes'], 'micros/ft')\n",
    "Z = math_ops.calc_impedance(rho, vp)\n",
    "# add impedance to dataframe\n",
    "df['Z'] = Z\n",
    "df['VP'] = vp"
   ]
  },
  {
   "cell_type": "code",
   "execution_count": 5,
   "metadata": {},
   "outputs": [],
   "source": [
    "# calculate vp-vs ratio\n",
    "vs = 1/conversion_tool.SI_conversion(df['Shear Slownes'], 'micros/ft')\n",
    "ratio = math_ops.calc_vp_vs_ratio(vp, vs)\n",
    "# add Vs and vp/vs ratio\n",
    "df['VS'] = vs\n",
    "df['VP/VS'] = ratio"
   ]
  },
  {
   "cell_type": "code",
   "execution_count": 6,
   "metadata": {},
   "outputs": [],
   "source": [
    "# calculate poisson coefficient\n",
    "poisson = math_ops.calc_poisson(vp, vs)\n",
    "df['poisson'] = poisson"
   ]
  },
  {
   "cell_type": "code",
   "execution_count": 7,
   "metadata": {},
   "outputs": [
    {
     "name": "stdout",
     "output_type": "stream",
     "text": [
      "Output units: kg/m3\n"
     ]
    }
   ],
   "source": [
    "# calculate mu and k modules\n",
    "vp, vs, rho = df['VP'], df['VS'],  conversion_tool.SI_conversion(df['Density'], 'g/cm3')\n",
    "mu = math_ops.calc_mu(vs, rho)\n",
    "k = math_ops.calc_k(vp, vs, rho)\n",
    "df['mu'] = mu\n",
    "df['k'] = k"
   ]
  },
  {
   "cell_type": "code",
   "execution_count": 8,
   "metadata": {},
   "outputs": [],
   "source": [
    "# Equivalent model exercise\n",
    "vp = np.array([2.27, 2.5, 2.38, 2.4, 2.36])\n",
    "vs = np.array([1.4, 1.5, 1.43, 1.4, 1.41])\n",
    "rho = np.array([2.3, 2.16, 2.19, 2.38, 2.5])\n",
    "lambda_lame, mu_lame = math_ops.calc_lame_parameters(rho, vp, vs)\n",
    "\n",
    "C, F, L, M = math_ops.calc_coefficients_equiv_model(lambda_lame, mu_lame)\n",
    "vp0, vs0, rho0 = math_ops.calc_equivalent_vel(C, L, rho)"
   ]
  },
  {
   "cell_type": "code",
   "execution_count": 9,
   "metadata": {},
   "outputs": [
    {
     "data": {
      "text/plain": [
       "2.3767721242313677"
      ]
     },
     "execution_count": 9,
     "metadata": {},
     "output_type": "execute_result"
    }
   ],
   "source": [
    "vp0"
   ]
  },
  {
   "cell_type": "code",
   "execution_count": 10,
   "metadata": {},
   "outputs": [
    {
     "data": {
      "text/plain": [
       "1.4258834715451107"
      ]
     },
     "execution_count": 10,
     "metadata": {},
     "output_type": "execute_result"
    }
   ],
   "source": [
    "vs0"
   ]
  },
  {
   "cell_type": "code",
   "execution_count": 13,
   "metadata": {},
   "outputs": [
    {
     "data": {
      "text/plain": [
       "2.306"
      ]
     },
     "execution_count": 13,
     "metadata": {},
     "output_type": "execute_result"
    }
   ],
   "source": [
    "rho0"
   ]
  },
  {
   "cell_type": "code",
   "execution_count": 12,
   "metadata": {},
   "outputs": [
    {
     "data": {
      "text/plain": [
       "4.6962762"
      ]
     },
     "execution_count": 12,
     "metadata": {},
     "output_type": "execute_result"
    }
   ],
   "source": [
    "M"
   ]
  }
 ],
 "metadata": {
  "kernelspec": {
   "display_name": "base",
   "language": "python",
   "name": "python3"
  },
  "language_info": {
   "codemirror_mode": {
    "name": "ipython",
    "version": 3
   },
   "file_extension": ".py",
   "mimetype": "text/x-python",
   "name": "python",
   "nbconvert_exporter": "python",
   "pygments_lexer": "ipython3",
   "version": "3.9.13"
  }
 },
 "nbformat": 4,
 "nbformat_minor": 2
}
