{
 "cells": [
  {
   "cell_type": "code",
   "execution_count": 9,
   "metadata": {},
   "outputs": [],
   "source": [
    "# add path of modules\n",
    "import sys\n",
    "sys.path.append('d:\\\\Users\\\\serfe\\\\Documents\\\\GitHub\\\\seisinv\\\\src')\n",
    "\n",
    "# Import local libraries\n",
    "from basic_ops_seis_inv import MathOps, Filtering, Error, ConversionTool\n",
    "from petro_analysis import DensityAnalysis\n",
    "from post_stack import poststack_methods as ps_methods\n",
    "from plot_seis_inv import PlotSeisInv\n",
    "\n",
    "# Import standard libraries\n",
    "import matplotlib.pyplot as plt\n",
    "import numpy as np\n",
    "import pandas as pd"
   ]
  },
  {
   "cell_type": "code",
   "execution_count": 10,
   "metadata": {},
   "outputs": [],
   "source": [
    "### Create instances to invoke functions/methods\n",
    "math_ops = MathOps()\n",
    "filtering = Filtering()\n",
    "ps_methods = ps_methods()\n",
    "plot_seis_inv = PlotSeisInv()\n",
    "error = Error()\n",
    "density_analysis = DensityAnalysis()\n",
    "conversion_tool = ConversionTool()"
   ]
  },
  {
   "cell_type": "code",
   "execution_count": null,
   "metadata": {},
   "outputs": [],
   "source": []
  },
  {
   "cell_type": "code",
   "execution_count": null,
   "metadata": {},
   "outputs": [],
   "source": []
  },
  {
   "cell_type": "code",
   "execution_count": null,
   "metadata": {},
   "outputs": [],
   "source": []
  },
  {
   "cell_type": "code",
   "execution_count": null,
   "metadata": {},
   "outputs": [],
   "source": []
  },
  {
   "cell_type": "code",
   "execution_count": null,
   "metadata": {},
   "outputs": [],
   "source": []
  },
  {
   "cell_type": "code",
   "execution_count": null,
   "metadata": {},
   "outputs": [],
   "source": []
  }
 ],
 "metadata": {
  "kernelspec": {
   "display_name": "base",
   "language": "python",
   "name": "python3"
  },
  "language_info": {
   "codemirror_mode": {
    "name": "ipython",
    "version": 3
   },
   "file_extension": ".py",
   "mimetype": "text/x-python",
   "name": "python",
   "nbconvert_exporter": "python",
   "pygments_lexer": "ipython3",
   "version": "3.9.13"
  }
 },
 "nbformat": 4,
 "nbformat_minor": 2
}
