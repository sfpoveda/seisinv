{
 "cells": [
  {
   "cell_type": "code",
   "execution_count": 7,
   "id": "9100e907",
   "metadata": {},
   "outputs": [],
   "source": [
    "import numpy as np"
   ]
  },
  {
   "cell_type": "markdown",
   "id": "1263f07c",
   "metadata": {},
   "source": [
    "# Inversión sísmica basada en modelo"
   ]
  },
  {
   "cell_type": "code",
   "execution_count": 8,
   "id": "ea8ab4c1",
   "metadata": {},
   "outputs": [],
   "source": [
    "def calc_r(m0, j=999):\n",
    "    \n",
    "    if j != 999:\n",
    "        r = (m0[j+1] - m0[j])/(m0[j+1] + m0[j])\n",
    "    else:\n",
    "        r = []\n",
    "        for i in range(1, len(m0)):\n",
    "\n",
    "            num = m0[i] - m0[i-1]\n",
    "            den = m0[i] + m0[i-1]\n",
    "            r_temp = num/den\n",
    "            r.append(r_temp)\n",
    "        r = np.array(r)\n",
    "    \n",
    "    return r"
   ]
  },
  {
   "cell_type": "code",
   "execution_count": 9,
   "id": "23e5429a",
   "metadata": {},
   "outputs": [],
   "source": [
    "def calc_jacobian(m0, r0):\n",
    "    \n",
    "    G = np.zeros([len(m0), len(r0)])\n",
    "    \n",
    "    for i in range(len(m0)): # for each Z\n",
    "        \n",
    "        # change the model\n",
    "        dZ = m0[i]*0.05 # dZ\n",
    "        m_temp = m0.copy()\n",
    "        m_temp[i] += dZ\n",
    "\n",
    "        for j in range(len(r0)): # for each r\n",
    "            \n",
    "            save = False\n",
    "            \n",
    "            if i == j:\n",
    "                save = True\n",
    "                j = i\n",
    "                \n",
    "            elif i == (j+1):\n",
    "                j = i-1\n",
    "                save = True\n",
    "                \n",
    "            if save:\n",
    "\n",
    "                r_new = calc_r(m_temp, j)\n",
    "                dr =  r0[j] - r_new # dr\n",
    "                G[i][j] = dr/dZ # update jacobian matrix\n",
    "                \n",
    "\n",
    "                \n",
    "    return G.T"
   ]
  },
  {
   "cell_type": "code",
   "execution_count": 10,
   "id": "154c84f3",
   "metadata": {},
   "outputs": [],
   "source": [
    "def update_m(d_obs, d_est, m0):\n",
    "    \n",
    "    G = calc_jacobian(m0, d_est) # jacobian matrix\n",
    "    G_square = np.matmul(G.T, G) # square jacobian for inversion\n",
    "    G_inverse = np.linalg.pinv(G_square)\n",
    "    E = (d_obs - d_est).reshape(3,1)\n",
    "    produ = np.matmul(G_inverse, G.T)\n",
    "    dm = np.matmul(produ, E)\n",
    "    update_m = m0 + dm\n",
    "    \n",
    "    return update_m\n",
    "    "
   ]
  },
  {
   "cell_type": "code",
   "execution_count": 11,
   "id": "63dcff14",
   "metadata": {},
   "outputs": [],
   "source": [
    "def L1_error(y_true, y_pred):\n",
    "    n = len(y_true)\n",
    "    # Calculate the absolute percentage error for each data point\n",
    "    abs_percentage_error = np.abs((y_pred - y_true) / y_true)\n",
    "    \n",
    "    # Calculate the mean absolute percentage error as a percentage of n\n",
    "    L1 = (np.sum(abs_percentage_error) / n) * 100\n",
    "    #print(f\"L1 error: {L1:.2f}%\")\n",
    "    return L1\n",
    "\n",
    "def L2_error(y_true, y_pred):\n",
    "    n = len(y_true)\n",
    "    # Calculate the squared percentage error for each data point\n",
    "    squared_percentage_error = ((y_true - y_pred) / y_true) ** 2\n",
    "    \n",
    "    # Calculate the mean squared percentage error and take the square root as a percentage of n\n",
    "    L2 = (np.sqrt(np.sum(squared_percentage_error)) / n) * 100\n",
    "    #print(f\"L2 error: {L2:.2f}%\")\n",
    "    return L2"
   ]
  },
  {
   "cell_type": "code",
   "execution_count": 12,
   "id": "a46af8b7",
   "metadata": {},
   "outputs": [],
   "source": [
    "def iterate_inv(m0, d_obs, d_est, iter_=20):\n",
    "    \n",
    "    m_est = m0\n",
    "    \n",
    "    for i in range(iter_):\n",
    "        print('='*50, i, '='*50)\n",
    "        L1 = L1_error(d_obs, d_est)\n",
    "        L2 = L2_error(d_obs, d_est)\n",
    "        print(f'd_obs: {d_obs}')\n",
    "        print(f'd_est: {d_est}')\n",
    "        print(f'L1: {L1}')\n",
    "        print(f'L2: {L2}')\n",
    "        m_est = update_m(d_obs, d_est, m_est) # Z estimado\n",
    "        d_est = calc_r(m_est, j=999) # r estimado\n",
    "        \n",
    "        \n",
    "    return d_est, m_est"
   ]
  },
  {
   "cell_type": "code",
   "execution_count": 13,
   "id": "4e84777c",
   "metadata": {},
   "outputs": [],
   "source": [
    "# model \n",
    "m0 = np.array([1.3, 1.4, 1.2, 1.1]).reshape(4,1) # model [MPa]\n",
    "r0 = calc_r(m0).reshape(3,1) # synthetic reflectivity profile [seismogram] - Datos estimados\n",
    "r = np.array([0.01, -0.012, -0.011]).reshape(3,1) # real reflectivity profile (from seismic data) [seismogram] - Datos observados"
   ]
  },
  {
   "cell_type": "code",
   "execution_count": 14,
   "id": "67c9a3ef",
   "metadata": {},
   "outputs": [
    {
     "data": {
      "text/plain": [
       "array([[1.3],\n",
       "       [1.4],\n",
       "       [1.2],\n",
       "       [1.1]])"
      ]
     },
     "execution_count": 14,
     "metadata": {},
     "output_type": "execute_result"
    }
   ],
   "source": [
    "m0"
   ]
  },
  {
   "cell_type": "code",
   "execution_count": 15,
   "id": "747e6eed",
   "metadata": {},
   "outputs": [
    {
     "data": {
      "text/plain": [
       "array([[ 0.03703704],\n",
       "       [-0.07692308],\n",
       "       [-0.04347826]])"
      ]
     },
     "execution_count": 15,
     "metadata": {},
     "output_type": "execute_result"
    }
   ],
   "source": [
    "r0"
   ]
  },
  {
   "cell_type": "code",
   "execution_count": 16,
   "id": "5fd70e36",
   "metadata": {},
   "outputs": [
    {
     "data": {
      "text/plain": [
       "array([[ 0.01 ],\n",
       "       [-0.012],\n",
       "       [-0.011]])"
      ]
     },
     "execution_count": 16,
     "metadata": {},
     "output_type": "execute_result"
    }
   ],
   "source": [
    "r"
   ]
  },
  {
   "cell_type": "code",
   "execution_count": 17,
   "id": "a8218af8",
   "metadata": {},
   "outputs": [
    {
     "data": {
      "text/plain": [
       "array([[ 0.3750586 , -0.34764006,  0.        ,  0.        ],\n",
       "       [ 0.        ,  0.34572169, -0.4048583 ,  0.        ],\n",
       "       [ 0.        ,  0.        ,  0.40530582, -0.44309056]])"
      ]
     },
     "execution_count": 17,
     "metadata": {},
     "output_type": "execute_result"
    }
   ],
   "source": [
    "J = calc_jacobian(m0, r0)\n",
    "J"
   ]
  },
  {
   "cell_type": "code",
   "execution_count": 18,
   "id": "9b6c0462",
   "metadata": {},
   "outputs": [
    {
     "name": "stdout",
     "output_type": "stream",
     "text": [
      "================================================== 0 ==================================================\n",
      "d_obs: [[ 0.01 ]\n",
      " [-0.012]\n",
      " [-0.011]]\n",
      "d_est: [[ 0.03703704]\n",
      " [-0.07692308]\n",
      " [-0.04347826]]\n",
      "L1: 368.8843094640192\n",
      "L2: 224.3473320187614\n",
      "================================================== 1 ==================================================\n",
      "d_obs: [[ 0.01 ]\n",
      " [-0.012]\n",
      " [-0.011]]\n",
      "d_est: [[ 0.06330079]\n",
      " [-0.14206387]\n",
      " [-0.07964164]]\n",
      "L1: 746.96279529256\n",
      "L2: 453.1686782623698\n",
      "================================================== 2 ==================================================\n",
      "d_obs: [[ 0.01 ]\n",
      " [-0.012]\n",
      " [-0.011]]\n",
      "d_est: [[ 0.11326129]\n",
      " [-0.27139106]\n",
      " [-0.16594475]]\n",
      "L1: 1534.2645889628845\n",
      "L2: 926.3364067735829\n",
      "================================================== 3 ==================================================\n",
      "d_obs: [[ 0.01 ]\n",
      " [-0.012]\n",
      " [-0.011]]\n",
      "d_est: [[ 0.20754983]\n",
      " [-0.53360935]\n",
      " [-0.47126065]]\n",
      "L1: 3502.143540754667\n",
      "L2: 2116.1865356840276\n",
      "================================================== 4 ==================================================\n",
      "d_obs: [[ 0.01 ]\n",
      " [-0.012]\n",
      " [-0.011]]\n",
      "d_est: [[ 0.39908591]\n",
      " [-1.13574732]\n",
      " [ 0.33376851]]\n",
      "L1: 5463.226411741837\n",
      "L2: 3538.005838564711\n",
      "================================================== 5 ==================================================\n",
      "d_obs: [[ 0.01 ]\n",
      " [-0.012]\n",
      " [-0.011]]\n",
      "d_est: [[ 0.94578868]\n",
      " [-3.46689695]\n",
      " [ 0.37790315]]\n",
      "L1: 13894.725972036658\n",
      "L2: 10159.726085225613\n",
      "================================================== 6 ==================================================\n",
      "d_obs: [[ 0.01 ]\n",
      " [-0.012]\n",
      " [-0.011]]\n",
      "d_est: [[-1.44334217]\n",
      " [ 1.49061032]\n",
      " [ 0.65172568]]\n",
      "L1: 11026.651076311697\n",
      "L2: 6702.508617257793\n",
      "================================================== 7 ==================================================\n",
      "d_obs: [[ 0.01 ]\n",
      " [-0.012]\n",
      " [-0.011]]\n",
      "d_est: [[-0.6737567 ]\n",
      " [ 0.59219674]\n",
      " [ 1.4854354 ]]\n",
      "L1: 8492.166022423622\n",
      "L2: 5345.516837199247\n",
      "================================================== 8 ==================================================\n",
      "d_obs: [[ 0.01 ]\n",
      " [-0.012]\n",
      " [-0.011]]\n",
      "d_est: [[-0.88036217]\n",
      " [ 0.81623567]\n",
      " [11.81000986]]\n",
      "L1: 41089.77053292767\n",
      "L2: 36017.532745180935\n",
      "================================================== 9 ==================================================\n",
      "d_obs: [[ 0.01 ]\n",
      " [-0.012]\n",
      " [-0.011]]\n",
      "d_est: [[-1.21292125]\n",
      " [-1.62661039]\n",
      " [ 0.78636912]]\n",
      "L1: 10977.703066395385\n",
      "L2: 6524.639122704819\n",
      "================================================== 10 ==================================================\n",
      "d_obs: [[ 0.01 ]\n",
      " [-0.012]\n",
      " [-0.011]]\n",
      "d_est: [[-33.34205047]\n",
      " [ -1.87050852]\n",
      " [  0.86315561]]\n",
      "L1: 118984.98161510291\n",
      "L2: 111324.82233860857\n",
      "================================================== 11 ==================================================\n",
      "d_obs: [[ 0.01 ]\n",
      " [-0.012]\n",
      " [-0.011]]\n",
      "d_est: [[-1.02628657]\n",
      " [ 0.50720928]\n",
      " [ 0.97615309]]\n",
      "L1: 7887.909592770423\n",
      "L2: 4791.711733259978\n",
      "================================================== 12 ==================================================\n",
      "d_obs: [[ 0.01 ]\n",
      " [-0.012]\n",
      " [-0.011]]\n",
      "d_est: [[-1.01169886]\n",
      " [ 0.50118456]\n",
      " [ 1.10721739]]\n",
      "L1: 8219.713075981126\n",
      "L2: 5011.268560099628\n",
      "================================================== 13 ==================================================\n",
      "d_obs: [[ 0.01 ]\n",
      " [-0.012]\n",
      " [-0.011]]\n",
      "d_est: [[-0.89410934]\n",
      " [ 0.51658147]\n",
      " [ 1.11597343]]\n",
      "L1: 7897.050681563992\n",
      "L2: 4785.492255628983\n",
      "================================================== 14 ==================================================\n",
      "d_obs: [[ 0.01 ]\n",
      " [-0.012]\n",
      " [-0.011]]\n",
      "d_est: [[-0.95396249]\n",
      " [ 0.58928249]\n",
      " [ 0.03305766]]\n",
      "L1: 5016.945496512097\n",
      "L2: 3623.8373677720597\n",
      "================================================== 15 ==================================================\n",
      "d_obs: [[ 0.01 ]\n",
      " [-0.012]\n",
      " [-0.011]]\n",
      "d_est: [[-2.07288729]\n",
      " [ 0.56705374]\n",
      " [ 0.03150206]]\n",
      "L1: 8680.234355379092\n",
      "L2: 7128.005683900465\n",
      "================================================== 16 ==================================================\n",
      "d_obs: [[ 0.01 ]\n",
      " [-0.012]\n",
      " [-0.011]]\n",
      "d_est: [[-0.99310917]\n",
      " [ 0.9955    ]\n",
      " [ 0.05596344]]\n",
      "L1: 6345.227874437801\n",
      "L2: 4365.0557505537345\n",
      "================================================== 17 ==================================================\n",
      "d_obs: [[ 0.01 ]\n",
      " [-0.012]\n",
      " [-0.011]]\n",
      "d_est: [[-0.97883953]\n",
      " [ 1.07055474]\n",
      " [ 0.06210874]]\n",
      "L1: 6524.769897454128\n",
      "L2: 4467.235674315011\n",
      "================================================== 18 ==================================================\n",
      "d_obs: [[ 0.01 ]\n",
      " [-0.012]\n",
      " [-0.011]]\n",
      "d_est: [[-1.0586282 ]\n",
      " [ 1.0463774 ]\n",
      " [ 0.06221312]]\n",
      "L1: 6723.889143436283\n",
      "L2: 4623.955603919688\n",
      "================================================== 19 ==================================================\n",
      "d_obs: [[ 0.01 ]\n",
      " [-0.012]\n",
      " [-0.011]]\n",
      "d_est: [[-1.30955116]\n",
      " [-0.61931715]\n",
      " [-1.77341209]]\n",
      "L1: 11426.138657353893\n",
      "L2: 7121.463545239097\n"
     ]
    }
   ],
   "source": [
    "new_Z, new_r = iterate_inv(m0=m0, d_obs=r, d_est=r0, iter_=20)"
   ]
  },
  {
   "cell_type": "code",
   "execution_count": null,
   "id": "30e987e3",
   "metadata": {},
   "outputs": [],
   "source": []
  },
  {
   "cell_type": "code",
   "execution_count": null,
   "id": "ff5012f1",
   "metadata": {},
   "outputs": [],
   "source": []
  }
 ],
 "metadata": {
  "kernelspec": {
   "display_name": "Python 3 (ipykernel)",
   "language": "python",
   "name": "python3"
  },
  "language_info": {
   "codemirror_mode": {
    "name": "ipython",
    "version": 3
   },
   "file_extension": ".py",
   "mimetype": "text/x-python",
   "name": "python",
   "nbconvert_exporter": "python",
   "pygments_lexer": "ipython3",
   "version": "3.9.13"
  }
 },
 "nbformat": 4,
 "nbformat_minor": 5
}
