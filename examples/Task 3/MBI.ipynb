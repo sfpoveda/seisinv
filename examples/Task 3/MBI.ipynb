{
 "cells": [
  {
   "cell_type": "code",
   "execution_count": 238,
   "id": "9100e907",
   "metadata": {},
   "outputs": [],
   "source": [
    "import numpy as np"
   ]
  },
  {
   "cell_type": "code",
   "execution_count": 239,
   "id": "ea8ab4c1",
   "metadata": {},
   "outputs": [],
   "source": [
    "def calc_r(m0, j=999):\n",
    "    \n",
    "    if j != 999:\n",
    "        r = (m0[j+1] - m0[j])/(m0[j+1] + m0[j])\n",
    "    else:\n",
    "        r = []\n",
    "        for i in range(1, len(m0)):\n",
    "\n",
    "            num = m0[i] - m0[i-1]\n",
    "            den = m0[i] + m0[i-1]\n",
    "            r_temp = num/den\n",
    "            r.append(r_temp)\n",
    "        r = np.array(r)\n",
    "    \n",
    "    return r"
   ]
  },
  {
   "cell_type": "code",
   "execution_count": 240,
   "id": "318244f9",
   "metadata": {},
   "outputs": [],
   "source": [
    "def calc_G(m0, r0, r, step=.01, objective = 'Z'):\n",
    "    \n",
    "    G = np.zeros((len(m0), len(r0))) # 4x3 \n",
    "    for j, row in enumerate(G): # for each row\n",
    "        for i, col in enumerate(G[j]): # for each column\n",
    "            if (i == j): # changes m_first\n",
    "                m_first = m0[j]\n",
    "                m_second = m0[j+1]\n",
    "                dZ = m_first*step\n",
    "                r_old = r0[i]\n",
    "                r_new = (m_second - (m_first+dZ))/(m_second + (m_first+dZ))\n",
    "                dr = r_old - r_new\n",
    "                cell_value = dr/dZ\n",
    "            elif (i==(j-1)): # changes m_second\n",
    "                m_first = m0[j-1]\n",
    "                m_second = m0[j]\n",
    "                dZ = m_second*step\n",
    "                r_old = r0[i]\n",
    "                r_new = ((m_second+dZ) - m_first)/((m_second+dZ) + m_first)\n",
    "                dr = r_old - r_new\n",
    "                cell_value = dr/dZ\n",
    "            else:\n",
    "                cell_value = 0\n",
    "            G[j][i] = cell_value\n",
    "            \n",
    "    if objective == 'Z':\n",
    "        G = G.T\n",
    "    else:\n",
    "        pass\n",
    "    \n",
    "    return G"
   ]
  },
  {
   "cell_type": "code",
   "execution_count": 241,
   "id": "9f1f1936",
   "metadata": {},
   "outputs": [],
   "source": [
    "def L1_error(y_true, y_pred):\n",
    "    n = len(y_true)\n",
    "    # Calculate the absolute percentage error for each data point\n",
    "    abs_percentage_error = np.abs((y_pred - y_true) / y_true)\n",
    "    \n",
    "    # Calculate the mean absolute percentage error as a percentage of n\n",
    "    L1 = (np.sum(abs_percentage_error) / n) * 100\n",
    "    #print(f\"L1 error: {L1:.2f}%\")\n",
    "    return L1\n",
    "\n",
    "def L2_error(y_true, y_pred):\n",
    "    n = len(y_true)\n",
    "    # Calculate the squared percentage error for each data point\n",
    "    squared_percentage_error = ((y_true - y_pred) / y_true) ** 2\n",
    "    \n",
    "    # Calculate the mean squared percentage error and take the square root as a percentage of n\n",
    "    L2 = (np.sqrt(np.sum(squared_percentage_error)) / n) * 100\n",
    "    #print(f\"L2 error: {L2:.2f}%\")\n",
    "    return L2"
   ]
  },
  {
   "cell_type": "code",
   "execution_count": 282,
   "id": "81086514",
   "metadata": {},
   "outputs": [],
   "source": [
    "def MBI(m0, r0, r, step=.01, max_iter=20):\n",
    "    \n",
    "    print('This Model-Based Inversion was made with the following parameters')\n",
    "    print(f'Step change: {step}')\n",
    "    print(f'max_iter: {max_iter}')\n",
    "    r_init = r0\n",
    "    m_init = m0\n",
    "    \n",
    "    for i in range(max_iter):\n",
    "        \n",
    "        print('='*50, f'Iteration: {i}', '='*50)\n",
    "        G = calc_G(m0, r0, r, step=.01)\n",
    "        G_square = np.matmul(G.T, G)\n",
    "        G_inverse = np.linalg.pinv(G_square)\n",
    "        G_matmul = np.matmul(G_inverse, G.T)\n",
    "        error = (r - r0)\n",
    "        delta_m = np.matmul(G_matmul, error)\n",
    "        m0 = m0 - delta_m\n",
    "        r0 = calc_r(m0)\n",
    "        L1 = L1_error(r, r0)\n",
    "        L2 = L2_error(r, r0)\n",
    "        print(f'L1 error: {L1}%')\n",
    "        print(f'L2 error: {L2}%')\n",
    "        early_stop_error = .00001\n",
    "        if L1<early_stop_error and L2<early_stop_error:\n",
    "            break\n",
    "    \n",
    "    print('='*50, 'Results of the MBI', '='*50)\n",
    "    print(f'Total iterations: {i+1}')\n",
    "    print(f'L1 error: {L1}%')\n",
    "    print(f'L2 error: {L2}%')\n",
    "    print(f'Initial reflectivity model (r): {np.squeeze(r_init)}')\n",
    "    print(f'Final reflectivity model (r): {np.squeeze(r0)}')\n",
    "    print(f'Target reflectivity model (r): {np.squeeze(r)}')\n",
    "    print(f'Initial impedance model (Z): {np.squeeze(m_init)}')\n",
    "    print(f'Final impedance model (Z): {np.squeeze(m0)}')\n",
    "    \n",
    "    return m0, r0\n",
    "    "
   ]
  },
  {
   "cell_type": "markdown",
   "id": "1263f07c",
   "metadata": {},
   "source": [
    "# Inversión sísmica basada en modelo"
   ]
  },
  {
   "cell_type": "code",
   "execution_count": 283,
   "id": "760ce776",
   "metadata": {},
   "outputs": [],
   "source": [
    "#### Initial data\n",
    "# observed data\n",
    "m0 = np.array([1.3, 1.4, 1.2, 1.1]).reshape(4,1) # model [MPa]\n",
    "r0 = calc_r(m0).reshape(3,1) # synthetic reflectivity profile [seismogram] - Datos estimados\n",
    "# real data\n",
    "r = np.array([0.01, -0.012, -0.011]).reshape(3,1) # real reflectivity profile (from seismic data) [seismogram] - Datos observados"
   ]
  },
  {
   "cell_type": "code",
   "execution_count": 284,
   "id": "6b0ba807",
   "metadata": {},
   "outputs": [
    {
     "name": "stdout",
     "output_type": "stream",
     "text": [
      "(4, 1) (3, 1) (3, 1)\n"
     ]
    }
   ],
   "source": [
    "print(m0.shape, r0.shape, r.shape)"
   ]
  },
  {
   "cell_type": "code",
   "execution_count": 285,
   "id": "23b8ba8d",
   "metadata": {
    "scrolled": false
   },
   "outputs": [
    {
     "name": "stdout",
     "output_type": "stream",
     "text": [
      "This Model-Based Inversion was made with the following parameters\n",
      "Step change: 0.01\n",
      "max_iter: 20\n",
      "================================================== Iteration: 0 ==================================================\n",
      "L1 error: 17.725152387715717%\n",
      "L2 error: 10.326211478736774%\n",
      "================================================== Iteration: 1 ==================================================\n",
      "L1 error: 0.08921741454051456%\n",
      "L2 error: 0.05175962205215356%\n",
      "================================================== Iteration: 2 ==================================================\n",
      "L1 error: 0.0004457015417104856%\n",
      "L2 error: 0.0002585798353962027%\n",
      "================================================== Iteration: 3 ==================================================\n",
      "L1 error: 2.2266493298092914e-06%\n",
      "L2 error: 1.2918354909052335e-06%\n",
      "================================================== Results of the MBI ==================================================\n",
      "Total iterations: 4\n",
      "L1 error: 2.2266493298092914e-06%\n",
      "L2 error: 1.2918354909052335e-06%\n",
      "Initial reflectivity model (r): [ 0.03703704 -0.07692308 -0.04347826]\n",
      "Final reflectivity model (r): [ 0.01  -0.012 -0.011]\n",
      "Target reflectivity model (r): [ 0.01  -0.012 -0.011]\n",
      "Initial impedance model (Z): [1.3 1.4 1.2 1.1]\n",
      "Final impedance model (Z): [1.26121567 1.28669477 1.25618027 1.228845  ]\n"
     ]
    }
   ],
   "source": [
    "m_predicted, r_predicted = MBI(m0, r0, r, step=.01, max_iter=20)"
   ]
  },
  {
   "cell_type": "code",
   "execution_count": 286,
   "id": "e4f8c1c2",
   "metadata": {},
   "outputs": [
    {
     "data": {
      "text/plain": [
       "array([ 0.00999996, -0.01199995, -0.01100006])"
      ]
     },
     "execution_count": 286,
     "metadata": {},
     "output_type": "execute_result"
    }
   ],
   "source": [
    "r_temp = calc_r([1.26121573, 1.28669472, 1.25618034, 1.22884492])\n",
    "r_temp"
   ]
  },
  {
   "cell_type": "code",
   "execution_count": null,
   "id": "afa8cc18",
   "metadata": {},
   "outputs": [],
   "source": []
  },
  {
   "cell_type": "code",
   "execution_count": null,
   "id": "0c5dfbfc",
   "metadata": {},
   "outputs": [],
   "source": []
  },
  {
   "cell_type": "code",
   "execution_count": null,
   "id": "2c9e5f15",
   "metadata": {},
   "outputs": [],
   "source": []
  },
  {
   "cell_type": "code",
   "execution_count": null,
   "id": "160067af",
   "metadata": {},
   "outputs": [],
   "source": []
  }
 ],
 "metadata": {
  "kernelspec": {
   "display_name": "Python 3 (ipykernel)",
   "language": "python",
   "name": "python3"
  },
  "language_info": {
   "codemirror_mode": {
    "name": "ipython",
    "version": 3
   },
   "file_extension": ".py",
   "mimetype": "text/x-python",
   "name": "python",
   "nbconvert_exporter": "python",
   "pygments_lexer": "ipython3",
   "version": "3.9.13"
  }
 },
 "nbformat": 4,
 "nbformat_minor": 5
}
